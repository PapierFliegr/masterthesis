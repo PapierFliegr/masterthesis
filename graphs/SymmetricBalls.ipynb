{
 "cells": [
  {
   "cell_type": "code",
   "execution_count": 1,
   "metadata": {},
   "outputs": [
    {
     "data": {
      "text/plain": [
       "false"
      ]
     },
     "metadata": {},
     "output_type": "display_data"
    }
   ],
   "source": [
    "using LinearAlgebra\n",
    "using GLMakie\n",
    "\n",
    "Makie.inline!(false) # To display figure in a seperate Window"
   ]
  },
  {
   "cell_type": "code",
   "execution_count": 2,
   "metadata": {},
   "outputs": [
    {
     "data": {
      "text/plain": [
       "Plower! (generic function with 1 method)"
      ]
     },
     "metadata": {},
     "output_type": "display_data"
    }
   ],
   "source": [
    "function circle!(x,y,r)\n",
    "    return [Point2f(x+r*sin(p), y+r*cos(p)) for p in range(0,2pi, length=100)]\n",
    "end\n",
    "\n",
    "function Pupper!(R, lambda)\n",
    "    if lambda > 1\n",
    "        lambda = 1\n",
    "    end\n",
    "    return [Point2f(x, R-sqrt(R^2-abs(x)^2)) for x in range(- lambda*R, lambda*R, length=100)]\n",
    "end\n",
    "\n",
    "function Plower!(R, lambda)\n",
    "    if lambda > 1\n",
    "        lambda = 1\n",
    "    end\n",
    "    return [Point2f(x, -R+sqrt(R^2-abs(x)^2)) for x in range(- lambda*R, lambda*R, length=100)]\n",
    "end"
   ]
  },
  {
   "cell_type": "code",
   "execution_count": 3,
   "metadata": {},
   "outputs": [],
   "source": [
    "fig = Figure()\n",
    "ax1 = Axis(fig[1:2,1:3],\n",
    "            aspect = 1,\n",
    "            limits = ((-4,4),(-4,4)))\n",
    "\n",
    "# Slider for ΛM\n",
    "slider_params_LamM = (range = 0.0:0.1:1.5, label=\"ΛM\", startvalue=1.0)\n",
    "sg_LamM = SliderGrid(fig[3, 1], slider_params_LamM)\n",
    "LamM = lift(LamM -> LamM, sg_LamM.sliders[1].value)\n",
    "#Slider for r_0\n",
    "slider_params_r = (range = 0.0:0.1:1.0, label=\"r_0\", startvalue=0.5)\n",
    "sg_r = SliderGrid(fig[3, 2], slider_params_r)\n",
    "r = lift(r -> r, sg_r.sliders[1].value)\n",
    "#Slider for R\n",
    "slider_params_R = (range = 0.0:0.1:1.0, label=\"R\", startvalue=1)\n",
    "sg_R = SliderGrid(fig[3, 3], slider_params_R)\n",
    "R = lift(R -> R, sg_R.sliders[1].value)\n",
    "\n",
    "onany(LamM,r,R) do LamM,r,R\n",
    "    empty!(ax1)\n",
    "    \n",
    "    band!(ax1, circle!(0,r,0), circle!(0,r,r), alpha=0.4,diffuse=0.5, color = :blue)\n",
    "    band!(ax1, circle!(0,-r,0), circle!(0,-r,r), alpha=0.4, color = :blue)\n",
    "\n",
    "    band!(ax1, circle!(0,0,0), circle!(0,0,LamM), alpha=0.4, color = :green)\n",
    "    band!(ax1, Plower!(R,LamM), Pupper!(R,LamM),alpha=0.4, color = :red)\n",
    "\n",
    "    band!(ax1, circle!(0,0,R*LamM), circle!(0,0,LamM), alpha=0.4, color = :brown)\n",
    "    band!(ax1, circle!(0,0,r), circle!(0,0,LamM), alpha=0.4, color = :brown)\n",
    "end\n",
    "\n",
    "fig"
   ]
  }
 ],
 "metadata": {
  "kernelspec": {
   "display_name": "Julia 1.9.4",
   "language": "julia",
   "name": "julia-1.9"
  },
  "language_info": {
   "file_extension": ".jl",
   "mimetype": "application/julia",
   "name": "julia",
   "version": "1.9.4"
  }
 },
 "nbformat": 4,
 "nbformat_minor": 2
}
