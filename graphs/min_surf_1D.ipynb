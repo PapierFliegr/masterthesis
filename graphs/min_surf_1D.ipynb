{
 "cells": [
  {
   "cell_type": "code",
   "execution_count": null,
   "metadata": {},
   "outputs": [],
   "source": [
    "using Cubature"
   ]
  },
  {
   "cell_type": "code",
   "execution_count": null,
   "metadata": {},
   "outputs": [],
   "source": [
    "function func(x, y)\n",
    "\n",
    "    n = 1\n",
    "    s = 0.9\n",
    "\n",
    "    return 1 / abs(x - y)^(n + s)\n",
    "end\n",
    "\n",
    "func(v) = func(v...)"
   ]
  },
  {
   "cell_type": "code",
   "execution_count": null,
   "metadata": {},
   "outputs": [],
   "source": [
    "M1 = 2.\n",
    "M2 = 1.\n",
    "\n",
    "result1 = hcubature(func, (-M1, -Inf), (M1, -M1))[1] + hcubature(func, (-M1, M1), (M1, Inf))[1]\n",
    "result2 = hcubature(func, (-M2, -Inf), (M2, -M2))[1] + hcubature(func, (-M2, M2), (M2, Inf))[1]\n",
    "result3 = hcubature(func, (-M1, M2), (-M2, M1))[1] \n",
    "\n",
    "println(\"Result of integration: \", result1)\n",
    "println(\"Result of integration: \", result2)\n",
    "println(\"Result of integration: \", result3)"
   ]
  }
 ],
 "metadata": {
  "kernelspec": {
   "display_name": "Julia 1.10.0",
   "language": "julia",
   "name": "julia-1.10"
  },
  "language_info": {
   "file_extension": ".jl",
   "mimetype": "application/julia",
   "name": "julia",
   "version": "1.10.0"
  }
 },
 "nbformat": 4,
 "nbformat_minor": 2
}
